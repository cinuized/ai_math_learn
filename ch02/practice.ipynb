{
 "cells": [
  {
   "cell_type": "code",
   "execution_count": 1,
   "metadata": {},
   "outputs": [
    {
     "data": {
      "text/latex": [
       "$\\displaystyle 0$"
      ],
      "text/plain": [
       "0"
      ]
     },
     "execution_count": 1,
     "metadata": {},
     "output_type": "execute_result"
    }
   ],
   "source": [
    "import sympy\n",
    "from sympy import oo\n",
    "import numpy as np\n",
    "x = sympy.Symbol('x')\n",
    "f = sympy.sin(x)/x\n",
    "sympy.limit(f, x, oo)"
   ]
  },
  {
   "cell_type": "code",
   "execution_count": 2,
   "metadata": {},
   "outputs": [
    {
     "data": {
      "text/latex": [
       "$\\displaystyle 2$"
      ],
      "text/plain": [
       "2"
      ]
     },
     "execution_count": 2,
     "metadata": {},
     "output_type": "execute_result"
    }
   ],
   "source": [
    "x = sympy.Symbol('x')\n",
    "f = (x**2-1)/(x-1)\n",
    "sympy.limit(f, x, 1)"
   ]
  },
  {
   "attachments": {},
   "cell_type": "markdown",
   "metadata": {},
   "source": [
    "习题"
   ]
  },
  {
   "cell_type": "code",
   "execution_count": 3,
   "metadata": {},
   "outputs": [
    {
     "data": {
      "text/latex": [
       "$\\displaystyle 0$"
      ],
      "text/plain": [
       "0"
      ]
     },
     "execution_count": 3,
     "metadata": {},
     "output_type": "execute_result"
    }
   ],
   "source": [
    "import sympy\n",
    "import numpy as np\n",
    "x = sympy.Symbol('x')\n",
    "f = sympy.sin(sympy.log(x, 10))\n",
    "sympy.limit(f, x, 1)"
   ]
  },
  {
   "cell_type": "code",
   "execution_count": 4,
   "metadata": {},
   "outputs": [
    {
     "data": {
      "text/latex": [
       "$\\displaystyle \\frac{1}{12}$"
      ],
      "text/plain": [
       "1/12"
      ]
     },
     "execution_count": 4,
     "metadata": {},
     "output_type": "execute_result"
    }
   ],
   "source": [
    "x = sympy.Symbol('x')\n",
    "f = (x**(1/3) - 2) / ( x - 8 )\n",
    "sympy.limit(f, x, 8)"
   ]
  },
  {
   "cell_type": "code",
   "execution_count": 5,
   "metadata": {},
   "outputs": [
    {
     "data": {
      "text/latex": [
       "$\\displaystyle \\frac{1}{12}$"
      ],
      "text/plain": [
       "1/12"
      ]
     },
     "execution_count": 5,
     "metadata": {},
     "output_type": "execute_result"
    }
   ],
   "source": [
    "x = sympy.Symbol('x')\n",
    "f = 1 / (x**2 + 2*x + 4)\n",
    "sympy.limit(f, x, 2)"
   ]
  },
  {
   "cell_type": "code",
   "execution_count": 6,
   "metadata": {},
   "outputs": [
    {
     "data": {
      "text/latex": [
       "$\\displaystyle x^{3} - 8$"
      ],
      "text/plain": [
       "x**3 - 8"
      ]
     },
     "execution_count": 6,
     "metadata": {},
     "output_type": "execute_result"
    }
   ],
   "source": [
    "f = x**3 - 8\n",
    "sympy.expand(f)"
   ]
  },
  {
   "cell_type": "code",
   "execution_count": 7,
   "metadata": {},
   "outputs": [
    {
     "data": {
      "text/latex": [
       "$\\displaystyle \\left(x - 2\\right) \\left(x^{2} + 2 x + 4\\right)$"
      ],
      "text/plain": [
       "(x - 2)*(x**2 + 2*x + 4)"
      ]
     },
     "execution_count": 7,
     "metadata": {},
     "output_type": "execute_result"
    }
   ],
   "source": [
    "sympy.factor(f)"
   ]
  },
  {
   "cell_type": "code",
   "execution_count": 8,
   "metadata": {},
   "outputs": [
    {
     "data": {
      "text/latex": [
       "$\\displaystyle \\frac{0.333333333333333}{x^{0.666666666666667}}$"
      ],
      "text/plain": [
       "0.333333333333333/x**0.666666666666667"
      ]
     },
     "execution_count": 8,
     "metadata": {},
     "output_type": "execute_result"
    }
   ],
   "source": [
    "from sympy import *\n",
    "from sympy.abc import x, y, z, f\n",
    "diff(x**(1/3))\n"
   ]
  },
  {
   "cell_type": "code",
   "execution_count": 9,
   "metadata": {},
   "outputs": [
    {
     "data": {
      "text/latex": [
       "$\\displaystyle \\frac{\\cos{\\left(x \\right)}}{2 \\sqrt{1 - \\sin{\\left(x \\right)}} \\sqrt{\\sin{\\left(x \\right)}}}$"
      ],
      "text/plain": [
       "cos(x)/(2*sqrt(1 - sin(x))*sqrt(sin(x)))"
      ]
     },
     "execution_count": 9,
     "metadata": {},
     "output_type": "execute_result"
    }
   ],
   "source": [
    "diff(asin(sqrt(sin(x))))"
   ]
  },
  {
   "attachments": {},
   "cell_type": "markdown",
   "metadata": {},
   "source": [
    "求 $ y = x^4 - 2x^3 + 5\\sin{x} + \\ln{3} $ 的导数"
   ]
  },
  {
   "cell_type": "code",
   "execution_count": 10,
   "metadata": {},
   "outputs": [
    {
     "data": {
      "text/latex": [
       "$\\displaystyle 4 x^{3} - 6 x^{2} + 5 \\cos{\\left(x \\right)}$"
      ],
      "text/plain": [
       "4*x**3 - 6*x**2 + 5*cos(x)"
      ]
     },
     "execution_count": 10,
     "metadata": {},
     "output_type": "execute_result"
    }
   ],
   "source": [
    "diff(x**4 - 2*x**3 + 5 * sin(x) + ln(3))"
   ]
  },
  {
   "attachments": {},
   "cell_type": "markdown",
   "metadata": {},
   "source": [
    "求 $ z = (3x^2+y^2)^{4x+2y} $ 在点 $ (1, 2) $ 处的偏导数"
   ]
  },
  {
   "cell_type": "code",
   "execution_count": 16,
   "metadata": {},
   "outputs": [
    {
     "name": "stdout",
     "output_type": "stream",
     "text": [
      "(3*x**2 + y**2)**(4*x + 2*y)*(6*x*(4*x + 2*y)/(3*x**2 + y**2) + 4*log(3*x**2 + y**2))\n",
      "84401203.0927369\n"
     ]
    }
   ],
   "source": [
    "from sympy import *\n",
    "# from sympy.abc import x, y, z, f\n",
    "\n",
    "f = (3 * x**2 + y**2)**(4*x + 2*y)\n",
    "fx = diff(f, x)\n",
    "print(fx)\n",
    "print(fx.evalf(subs={x:1, y:2}))\n"
   ]
  },
  {
   "cell_type": "code",
   "execution_count": 17,
   "metadata": {},
   "outputs": [
    {
     "name": "stdout",
     "output_type": "stream",
     "text": [
      "(3*x**2 + y**2)**(4*x + 2*y)*(2*y*(4*x + 2*y)/(3*x**2 + y**2) + 2*log(3*x**2 + y**2))\n",
      "48788945.5463684\n"
     ]
    },
    {
     "data": {
      "text/plain": [
       "'\\\\left(3 x^{2} + y^{2}\\\\right)^{4 x + 2 y} \\\\left(\\\\frac{2 y \\\\left(4 x + 2 y\\\\right)}{3 x^{2} + y^{2}} + 2 \\\\log{\\\\left(3 x^{2} + y^{2} \\\\right)}\\\\right)'"
      ]
     },
     "execution_count": 17,
     "metadata": {},
     "output_type": "execute_result"
    }
   ],
   "source": [
    "fy = diff(f, y)\n",
    "print(fy)\n",
    "print(fy.evalf(subs={x:1, y:2}))\n",
    "latex(fy)"
   ]
  },
  {
   "attachments": {},
   "cell_type": "markdown",
   "metadata": {},
   "source": [
    "$$ \\left(3 x^{2} + y^{2}\\right)^{4 x + 2 y} \\left(\\frac{2 y \\left(4 x + 2 y\\right)}{3 x^{2} + y^{2}} + 2 \\log{\\left(3 x^{2} + y^{2} \\right)}\\right) $$"
   ]
  },
  {
   "attachments": {},
   "cell_type": "markdown",
   "metadata": {},
   "source": []
  }
 ],
 "metadata": {
  "kernelspec": {
   "display_name": "tyd",
   "language": "python",
   "name": "python3"
  },
  "language_info": {
   "codemirror_mode": {
    "name": "ipython",
    "version": 3
   },
   "file_extension": ".py",
   "mimetype": "text/x-python",
   "name": "python",
   "nbconvert_exporter": "python",
   "pygments_lexer": "ipython3",
   "version": "3.11.2"
  },
  "orig_nbformat": 4
 },
 "nbformat": 4,
 "nbformat_minor": 2
}
